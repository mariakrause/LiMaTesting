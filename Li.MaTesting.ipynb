{
 "cells": [
  {
   "cell_type": "code",
   "execution_count": 14,
   "metadata": {
    "collapsed": true
   },
   "outputs": [],
   "source": [
    "import numpy as np"
   ]
  },
  {
   "cell_type": "markdown",
   "metadata": {},
   "source": [
    "LiMa is eq 17, genLiMa is from the Aharonian paper (as used by VEGAS), EDLiMa is my understanding of how ED does it.  If this is wrong, please correct me"
   ]
  },
  {
   "cell_type": "code",
   "execution_count": 16,
   "metadata": {
    "collapsed": true
   },
   "outputs": [],
   "source": [
    "def LiMa(on, off, alpha):\n",
    "    opA = 1.  + alpha\n",
    "    N   = on  + off\n",
    "    T1  = on  * np.log(opA/alpha*on/N)\n",
    "    T2  = off * np.log(opA*off/N)\n",
    "    return np.sqrt(2*(T1 + T2))\n",
    "\n",
    "def genLiMa(on, off, alpha):\n",
    "    sOn  = np.sum(on)\n",
    "    sOff = np.sum(off)\n",
    "    opA  = 1. + alpha\n",
    "    N    = on + off\n",
    "    sT1  = sOn / np.sum(alpha/opA*N)\n",
    "    sT2  = sOff / np.sum(N/opA)\n",
    "    if sOn >= np.sum(off * alpha):\n",
    "        return np.sqrt(2*(np.sum(on * np.log(sT1)) + np.sum(off * np.log(sT2))))\n",
    "    else:\n",
    "        return -1. * np.sqrt(2*(np.sum(on * np.log(sT1)) + np.sum(off * np.log(sT2))))\n",
    "    \n",
    "def EDLiMa(on, off, alpha):\n",
    "    sOn  = np.sum(on)\n",
    "    sOff = np.sum(off)\n",
    "    opA  = 1. + alpha\n",
    "    sN   = sOn + sOff # ( sum(NOn) + sum(NOff) \n",
    "    sT1  = np.sum(alpha/opA) * sN #sum( alphaNorm / (1+alphaNorm) ) * ( sum(NOn) + sum(NOff) )\n",
    "    sT2  = np.sum(1./opA) * sN #sum( 1 / (1+alphaNorm) ) * ( sum(NOn) + sum(NOff) )\n",
    "    \n",
    "    aN   = sT1 / sT2\n",
    "    return LiMa(sOn, sOff, aN)"
   ]
  },
  {
   "cell_type": "markdown",
   "metadata": {},
   "source": [
    "Simple test - should give same answer"
   ]
  },
  {
   "cell_type": "code",
   "execution_count": 26,
   "metadata": {
    "collapsed": false
   },
   "outputs": [
    {
     "name": "stdout",
     "output_type": "stream",
     "text": [
      "0.336476863477\n",
      "0.336476863477\n"
     ]
    }
   ],
   "source": [
    "on    = np.array([2])\n",
    "off   = np.array([5])\n",
    "alpha = np.array([0.3])\n",
    "print genLiMa(on, off, alpha)\n",
    "print EDLiMa(on, off, alpha)"
   ]
  },
  {
   "cell_type": "markdown",
   "metadata": {},
   "source": [
    "Does, right, multiple runs, same alpha, should be the same"
   ]
  },
  {
   "cell_type": "code",
   "execution_count": 28,
   "metadata": {
    "collapsed": false
   },
   "outputs": [
    {
     "name": "stdout",
     "output_type": "stream",
     "text": [
      "0.556578236193\n",
      "0.556578236193\n"
     ]
    }
   ],
   "source": [
    "on    = np.array([2,3,3,4])\n",
    "off   = np.array([5,10,15,20])\n",
    "alpha = np.array([0.2,0.2,0.2,0.2])\n",
    "print genLiMa(on, off, alpha)\n",
    "print EDLiMa(on, off, alpha)"
   ]
  },
  {
   "cell_type": "markdown",
   "metadata": {},
   "source": [
    "What if alpha varies?"
   ]
  },
  {
   "cell_type": "code",
   "execution_count": 29,
   "metadata": {
    "collapsed": false
   },
   "outputs": [
    {
     "name": "stdout",
     "output_type": "stream",
     "text": [
      "1.25252726824\n",
      "1.4326554712\n"
     ]
    }
   ],
   "source": [
    "on    = np.array([2,3,3,4])\n",
    "off   = np.array([5,10,15,20])\n",
    "alpha = np.array([0.1,0.2,0.1,0.2])\n",
    "print genLiMa(on, off, alpha)\n",
    "print EDLiMa(on, off, alpha)"
   ]
  },
  {
   "cell_type": "markdown",
   "metadata": {},
   "source": [
    "Now we have an issue, we can test this with random number of \"runs\" with random properties\n",
    "\n",
    " nsam = number of runs <br>\n",
    " ncount = number of on counts <br>\n",
    " valpha = amount of variation in alpha (must be bigger than 0.000001, suggest no bigger than the base alpha (0.3))\n",
    "\n",
    "n.b. this uses the on counts and alpha to get the off counts, it should be correctly predicting them and give a significance of zero"
   ]
  },
  {
   "cell_type": "code",
   "execution_count": 37,
   "metadata": {
    "collapsed": false
   },
   "outputs": [
    {
     "name": "stdout",
     "output_type": "stream",
     "text": [
      "0.0\n",
      "1.17607772954e-06\n"
     ]
    }
   ],
   "source": [
    "nsam   = 100\n",
    "ncount = 10\n",
    "valpha = 0.00001\n",
    "on    = np.random.normal(loc = ncount, size = nsam)\n",
    "alpha = 0.3 + valpha * np.random.rand(nsam)\n",
    "off   = on / alpha\n",
    "print genLiMa(on, off, alpha)\n",
    "print EDLiMa(on, off, alpha)"
   ]
  },
  {
   "cell_type": "markdown",
   "metadata": {},
   "source": [
    "if valpha is small, this appears to work (within rounding, what if we make it bigger?"
   ]
  },
  {
   "cell_type": "code",
   "execution_count": 36,
   "metadata": {
    "collapsed": false
   },
   "outputs": [
    {
     "name": "stdout",
     "output_type": "stream",
     "text": [
      "1.20743595266e-06\n",
      "0.00295556443838\n"
     ]
    }
   ],
   "source": [
    "nsam   = 100\n",
    "ncount = 10\n",
    "valpha = 0.01\n",
    "on    = np.random.normal(loc = ncount, size = nsam)\n",
    "alpha = 0.3 + valpha * np.random.rand(nsam)\n",
    "off   = on / alpha\n",
    "print genLiMa(on, off, alpha)\n",
    "print EDLiMa(on, off, alpha)"
   ]
  },
  {
   "cell_type": "markdown",
   "metadata": {},
   "source": [
    "Hang on a 1% difference in alpha causes a 0.3% error - that cant be rounding"
   ]
  },
  {
   "cell_type": "code",
   "execution_count": 38,
   "metadata": {
    "collapsed": false
   },
   "outputs": [
    {
     "name": "stdout",
     "output_type": "stream",
     "text": [
      "0.0\n",
      "0.162466691133\n"
     ]
    }
   ],
   "source": [
    "nsam   = 100\n",
    "ncount = 10\n",
    "valpha = 0.1\n",
    "on    = np.random.normal(loc = ncount, size = nsam)\n",
    "alpha = 0.3 + valpha * np.random.rand(nsam)\n",
    "off   = on / alpha\n",
    "print genLiMa(on, off, alpha)\n",
    "print EDLiMa(on, off, alpha)"
   ]
  },
  {
   "cell_type": "markdown",
   "metadata": {},
   "source": [
    "A 10% difference is causing a 16% error - ouch\n",
    "\n",
    "can you explain what I have done wrong?"
   ]
  },
  {
   "cell_type": "code",
   "execution_count": null,
   "metadata": {
    "collapsed": true
   },
   "outputs": [],
   "source": []
  }
 ],
 "metadata": {
  "kernelspec": {
   "display_name": "Python 2",
   "language": "python",
   "name": "python2"
  },
  "language_info": {
   "codemirror_mode": {
    "name": "ipython",
    "version": 2
   },
   "file_extension": ".py",
   "mimetype": "text/x-python",
   "name": "python",
   "nbconvert_exporter": "python",
   "pygments_lexer": "ipython2",
   "version": "2.7.10"
  }
 },
 "nbformat": 4,
 "nbformat_minor": 0
}
